{
 "cells": [
  {
   "cell_type": "code",
   "execution_count": 1,
   "metadata": {},
   "outputs": [],
   "source": [
    "import cv2\n",
    "import numpy as np\n"
   ]
  },
  {
   "cell_type": "code",
   "execution_count": 2,
   "metadata": {},
   "outputs": [],
   "source": [
    "from keras.models import Sequential\n",
    "from keras.layers import Dense, Dropout, Flatten\n",
    "from keras.layers import Conv2D\n",
    "from keras.optimizers import Adam\n",
    "from keras.layers import MaxPooling2D\n",
    "from keras.preprocessing.image import ImageDataGenerator"
   ]
  },
  {
   "cell_type": "code",
   "execution_count": 3,
   "metadata": {},
   "outputs": [],
   "source": [
    "train_dir = 'data/train'\n",
    "val_dir = 'data/test'"
   ]
  },
  {
   "cell_type": "code",
   "execution_count": 4,
   "metadata": {},
   "outputs": [],
   "source": [
    "train_datagen = ImageDataGenerator(rescale=1./255)\n",
    "val_datagen = ImageDataGenerator(rescale=1./255)"
   ]
  },
  {
   "cell_type": "code",
   "execution_count": 5,
   "metadata": {},
   "outputs": [
    {
     "name": "stdout",
     "output_type": "stream",
     "text": [
      "Found 28709 images belonging to 7 classes.\n",
      "Found 7178 images belonging to 7 classes.\n"
     ]
    }
   ],
   "source": [
    "train_generator = train_datagen.flow_from_directory(\n",
    "        train_dir,\n",
    "        target_size=(48,48),\n",
    "        batch_size=64,\n",
    "        color_mode=\"grayscale\",\n",
    "        class_mode='categorical')\n",
    "validation_generator = val_datagen.flow_from_directory(\n",
    "        val_dir,\n",
    "        target_size=(48,48),\n",
    "        batch_size=64,\n",
    "        color_mode=\"grayscale\",\n",
    "        class_mode='categorical')"
   ]
  },
  {
   "cell_type": "code",
   "execution_count": 6,
   "metadata": {},
   "outputs": [],
   "source": [
    "emotion_model = Sequential()\n",
    "emotion_model.add(Conv2D(32, kernel_size=(3, 3), activation='relu', input_shape=(48,48,1)))\n",
    "emotion_model.add(Conv2D(64, kernel_size=(3, 3), activation='relu'))\n",
    "emotion_model.add(MaxPooling2D(pool_size=(2, 2)))\n",
    "emotion_model.add(Dropout(0.25))\n",
    "emotion_model.add(Conv2D(128, kernel_size=(3, 3), activation='relu'))\n",
    "emotion_model.add(MaxPooling2D(pool_size=(2, 2)))\n",
    "emotion_model.add(Conv2D(128, kernel_size=(3, 3), activation='relu'))\n",
    "emotion_model.add(MaxPooling2D(pool_size=(2, 2)))\n",
    "emotion_model.add(Dropout(0.25))\n",
    "emotion_model.add(Flatten())\n",
    "emotion_model.add(Dense(1024, activation='relu'))\n",
    "emotion_model.add(Dropout(0.5))\n",
    "emotion_model.add(Dense(7, activation='softmax'))"
   ]
  },
  {
   "cell_type": "code",
   "execution_count": 7,
   "metadata": {},
   "outputs": [],
   "source": [
    "emotion_model.compile(loss='categorical_crossentropy',optimizer=Adam(lr=0.0001, decay=1e-6),metrics=['accuracy'])"
   ]
  },
  {
   "cell_type": "code",
   "execution_count": 8,
   "metadata": {},
   "outputs": [
    {
     "name": "stdout",
     "output_type": "stream",
     "text": [
      "Epoch 1/20\n",
      "448/448 [==============================] - 791s 2s/step - loss: 1.8339 - accuracy: 0.2362 - val_loss: 1.7424 - val_accuracy: 0.3177\n",
      "Epoch 2/20\n",
      "448/448 [==============================] - 223s 497ms/step - loss: 1.6726 - accuracy: 0.3449 - val_loss: 1.5553 - val_accuracy: 0.4100\n",
      "Epoch 3/20\n",
      "448/448 [==============================] - 229s 510ms/step - loss: 1.5516 - accuracy: 0.4054 - val_loss: 1.4800 - val_accuracy: 0.4400\n",
      "Epoch 4/20\n",
      "448/448 [==============================] - 227s 507ms/step - loss: 1.4911 - accuracy: 0.4271 - val_loss: 1.4337 - val_accuracy: 0.4556\n",
      "Epoch 5/20\n",
      "448/448 [==============================] - 243s 543ms/step - loss: 1.4321 - accuracy: 0.4527 - val_loss: 1.3833 - val_accuracy: 0.4766\n",
      "Epoch 6/20\n",
      "448/448 [==============================] - 258s 575ms/step - loss: 1.3785 - accuracy: 0.4733 - val_loss: 1.3382 - val_accuracy: 0.4980\n",
      "Epoch 7/20\n",
      "448/448 [==============================] - 234s 523ms/step - loss: 1.3260 - accuracy: 0.5018 - val_loss: 1.2970 - val_accuracy: 0.5067\n",
      "Epoch 8/20\n",
      "448/448 [==============================] - 245s 547ms/step - loss: 1.2851 - accuracy: 0.5155 - val_loss: 1.2630 - val_accuracy: 0.5241\n",
      "Epoch 9/20\n",
      "448/448 [==============================] - 226s 504ms/step - loss: 1.2451 - accuracy: 0.5292 - val_loss: 1.2312 - val_accuracy: 0.5359\n",
      "Epoch 10/20\n",
      "448/448 [==============================] - 226s 505ms/step - loss: 1.2148 - accuracy: 0.5429 - val_loss: 1.2083 - val_accuracy: 0.5458\n",
      "Epoch 11/20\n",
      "448/448 [==============================] - 231s 515ms/step - loss: 1.1790 - accuracy: 0.5525 - val_loss: 1.2019 - val_accuracy: 0.5459\n",
      "Epoch 12/20\n",
      "448/448 [==============================] - 232s 519ms/step - loss: 1.1567 - accuracy: 0.5725 - val_loss: 1.1880 - val_accuracy: 0.5527\n",
      "Epoch 13/20\n",
      "448/448 [==============================] - 230s 514ms/step - loss: 1.1253 - accuracy: 0.5771 - val_loss: 1.1597 - val_accuracy: 0.5633\n",
      "Epoch 14/20\n",
      "448/448 [==============================] - 218s 488ms/step - loss: 1.0946 - accuracy: 0.5910 - val_loss: 1.1456 - val_accuracy: 0.5660\n",
      "Epoch 15/20\n",
      "448/448 [==============================] - 249s 555ms/step - loss: 1.0637 - accuracy: 0.6022 - val_loss: 1.1379 - val_accuracy: 0.5702\n",
      "Epoch 16/20\n",
      "448/448 [==============================] - 263s 588ms/step - loss: 1.0525 - accuracy: 0.6094 - val_loss: 1.1267 - val_accuracy: 0.5760\n",
      "Epoch 17/20\n",
      "448/448 [==============================] - 253s 565ms/step - loss: 1.0385 - accuracy: 0.6134 - val_loss: 1.1160 - val_accuracy: 0.5822\n",
      "Epoch 18/20\n",
      "448/448 [==============================] - 254s 567ms/step - loss: 1.0030 - accuracy: 0.6328 - val_loss: 1.1177 - val_accuracy: 0.5794\n",
      "Epoch 19/20\n",
      "448/448 [==============================] - 240s 537ms/step - loss: 0.9919 - accuracy: 0.6358 - val_loss: 1.1144 - val_accuracy: 0.5806\n",
      "Epoch 20/20\n",
      "448/448 [==============================] - 239s 533ms/step - loss: 0.9624 - accuracy: 0.6468 - val_loss: 1.0968 - val_accuracy: 0.5900\n"
     ]
    }
   ],
   "source": [
    "emotion_model_info = emotion_model.fit(\n",
    "        train_generator,\n",
    "        steps_per_epoch=28709 // 64,\n",
    "        epochs=20,\n",
    "        validation_data=validation_generator,\n",
    "        validation_steps=7178 // 64)"
   ]
  },
  {
   "cell_type": "code",
   "execution_count": 9,
   "metadata": {},
   "outputs": [],
   "source": [
    "emotion_model.save_weights('emojify.h5')\n"
   ]
  },
  {
   "cell_type": "code",
   "execution_count": null,
   "metadata": {},
   "outputs": [],
   "source": []
  },
  {
   "cell_type": "code",
   "execution_count": null,
   "metadata": {},
   "outputs": [],
   "source": []
  },
  {
   "cell_type": "code",
   "execution_count": 17,
   "metadata": {},
   "outputs": [],
   "source": [
    "cv2.ocl.setUseOpenCL(False)\n",
    "emotion_dict = {0: \"Angry\", 1: \"Disgusted\", 2: \"Fearful\", 3: \"Happy\", 4: \"Neutral\", 5: \"Sad\", 6: \"Surprised\"}\n",
    "cap = cv2.VideoCapture(0)\n",
    "while True:\n",
    "    ret, frame = cap.read()\n",
    "    if not ret:\n",
    "        break\n",
    "    bounding_box = cv2.CascadeClassifier(r'C:\\Users\\Sarvesh\\haarcascade_frontalface_default.xml')\n",
    "    gray_frame = cv2.cvtColor(frame, cv2.COLOR_BGR2GRAY)\n",
    "    num_faces = bounding_box.detectMultiScale(gray_frame,scaleFactor=1.3, minNeighbors=5)\n",
    "    for (x, y, w, h) in num_faces:\n",
    "        cv2.rectangle(frame, (x, y-50), (x+w, y+h+10), (255, 0, 0), 2)\n",
    "        roi_gray_frame = gray_frame[y:y + h, x:x + w]\n",
    "        cropped_img = np.expand_dims(np.expand_dims(cv2.resize(roi_gray_frame, (48, 48)), -1), 0)\n",
    "        emotion_prediction = emotion_model.predict(cropped_img)\n",
    "        maxindex = int(np.argmax(emotion_prediction))\n",
    "        cv2.putText(frame, emotion_dict[maxindex], (x+20, y-60), cv2.FONT_HERSHEY_SIMPLEX, 1, (255, 255, 255), 2, cv2.LINE_AA)\n",
    "    cv2.imshow('Video', cv2.resize(frame,(1200,860),interpolation = cv2.INTER_CUBIC))\n",
    "    if cv2.waitKey(1) & 0xFF == ord('q'):\n",
    "        cap.release()\n",
    "        cv2.destroyAllWindows()\n",
    "    break"
   ]
  },
  {
   "cell_type": "code",
   "execution_count": null,
   "metadata": {},
   "outputs": [],
   "source": []
  }
 ],
 "metadata": {
  "kernelspec": {
   "display_name": "'Opencv'",
   "language": "python",
   "name": "opencv"
  },
  "language_info": {
   "codemirror_mode": {
    "name": "ipython",
    "version": 3
   },
   "file_extension": ".py",
   "mimetype": "text/x-python",
   "name": "python",
   "nbconvert_exporter": "python",
   "pygments_lexer": "ipython3",
   "version": "3.7.0"
  }
 },
 "nbformat": 4,
 "nbformat_minor": 4
}
